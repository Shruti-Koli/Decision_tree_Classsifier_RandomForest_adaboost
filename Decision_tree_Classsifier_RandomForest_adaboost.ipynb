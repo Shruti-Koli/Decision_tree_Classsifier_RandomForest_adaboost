{
 "cells": [
  {
   "cell_type": "markdown",
   "metadata": {},
   "source": [
    "# Decision Tree Classifier"
   ]
  },
  {
   "cell_type": "raw",
   "metadata": {},
   "source": [
    "predicting Airbags"
   ]
  },
  {
   "cell_type": "markdown",
   "metadata": {},
   "source": [
    "# Read Dataset"
   ]
  },
  {
   "cell_type": "code",
   "execution_count": 1,
   "metadata": {},
   "outputs": [],
   "source": [
    "from warnings  import filterwarnings\n",
    "filterwarnings(\"ignore\")\n",
    "\n",
    "import pandas as pd\n",
    "A = pd.read_csv(\"C:/Users/Shruti/Downloads/Cars93.csv\")"
   ]
  },
  {
   "cell_type": "markdown",
   "metadata": {},
   "source": [
    "# Missing Data Treatment"
   ]
  },
  {
   "cell_type": "code",
   "execution_count": 2,
   "metadata": {},
   "outputs": [],
   "source": [
    "from important_funct import replacer\n",
    "replacer(A)"
   ]
  },
  {
   "cell_type": "markdown",
   "metadata": {},
   "source": [
    "# Defining X and Y"
   ]
  },
  {
   "cell_type": "code",
   "execution_count": 3,
   "metadata": {},
   "outputs": [],
   "source": [
    "Y = A[[\"AirBags\"]]\n",
    "X = A.drop(labels=[\"id\",\"Make\",\"Model\",\"AirBags\"],axis= 1)"
   ]
  },
  {
   "cell_type": "markdown",
   "metadata": {},
   "source": [
    "# Preprocessing"
   ]
  },
  {
   "cell_type": "code",
   "execution_count": 4,
   "metadata": {},
   "outputs": [],
   "source": [
    "from important_funct import preprocessing\n",
    "Xnew = preprocessing(X)"
   ]
  },
  {
   "cell_type": "markdown",
   "metadata": {},
   "source": [
    "# Dividing data into training and testing set"
   ]
  },
  {
   "cell_type": "code",
   "execution_count": 5,
   "metadata": {},
   "outputs": [],
   "source": [
    "from sklearn.model_selection import train_test_split\n",
    "xtrain,xtest,ytrain,ytest=train_test_split(Xnew,Y,test_size=0.2,random_state=21)"
   ]
  },
  {
   "cell_type": "code",
   "execution_count": 6,
   "metadata": {},
   "outputs": [
    {
     "name": "stdout",
     "output_type": "stream",
     "text": [
      "tr_err- 1.0   ts_err- 0.421\n"
     ]
    }
   ],
   "source": [
    "from sklearn.tree import DecisionTreeClassifier\n",
    "dtc = DecisionTreeClassifier(random_state=21)\n",
    "model = dtc.fit(xtrain,ytrain)\n",
    "pred_tr = model.predict(xtrain)\n",
    "pred_ts = model.predict(xtest)\n",
    "\n",
    "from sklearn.metrics import accuracy_score\n",
    "tr_err = accuracy_score(ytrain,pred_tr)\n",
    "ts_err = accuracy_score(ytest,pred_ts)\n",
    "\n",
    "print(\"tr_err-\",tr_err,\"  ts_err-\",round(ts_err,3))"
   ]
  },
  {
   "cell_type": "markdown",
   "metadata": {},
   "source": [
    "# Pruning"
   ]
  },
  {
   "cell_type": "code",
   "execution_count": 7,
   "metadata": {},
   "outputs": [
    {
     "name": "stdout",
     "output_type": "stream",
     "text": [
      "---------------- 1 ------------------\n",
      "tr_err- 0.608   ts_err- 0.421\n",
      "---------------- 2 ------------------\n",
      "tr_err- 0.608   ts_err- 0.526\n",
      "---------------- 3 ------------------\n",
      "tr_err- 0.77   ts_err- 0.526\n",
      "---------------- 4 ------------------\n",
      "tr_err- 0.797   ts_err- 0.421\n",
      "---------------- 5 ------------------\n",
      "tr_err- 0.838   ts_err- 0.316\n",
      "---------------- 6 ------------------\n",
      "tr_err- 0.878   ts_err- 0.474\n",
      "---------------- 7 ------------------\n",
      "tr_err- 0.986   ts_err- 0.526\n",
      "---------------- 8 ------------------\n",
      "tr_err- 1.0   ts_err- 0.421\n",
      "---------------- 9 ------------------\n",
      "tr_err- 1.0   ts_err- 0.421\n",
      "---------------- 10 ------------------\n",
      "tr_err- 1.0   ts_err- 0.421\n",
      "---------------- 11 ------------------\n",
      "tr_err- 1.0   ts_err- 0.421\n",
      "---------------- 12 ------------------\n",
      "tr_err- 1.0   ts_err- 0.421\n",
      "---------------- 13 ------------------\n",
      "tr_err- 1.0   ts_err- 0.421\n",
      "---------------- 14 ------------------\n",
      "tr_err- 1.0   ts_err- 0.421\n",
      "---------------- 15 ------------------\n",
      "tr_err- 1.0   ts_err- 0.421\n",
      "---------------- 16 ------------------\n",
      "tr_err- 1.0   ts_err- 0.421\n",
      "---------------- 17 ------------------\n",
      "tr_err- 1.0   ts_err- 0.421\n",
      "---------------- 18 ------------------\n",
      "tr_err- 1.0   ts_err- 0.421\n",
      "---------------- 19 ------------------\n",
      "tr_err- 1.0   ts_err- 0.421\n"
     ]
    }
   ],
   "source": [
    "for i in range(1,20,1):\n",
    "    print(\"----------------\",i,\"------------------\")\n",
    "    dtc = DecisionTreeClassifier(random_state=21,max_depth=i)\n",
    "    model = dtc.fit(xtrain,ytrain)\n",
    "    pred_tr = model.predict(xtrain)\n",
    "    pred_ts = model.predict(xtest)\n",
    "\n",
    "    from sklearn.metrics import accuracy_score\n",
    "    tr_err = accuracy_score(ytrain,pred_tr)\n",
    "    ts_err = accuracy_score(ytest,pred_ts)\n",
    "\n",
    "    print(\"tr_err-\",round(tr_err,3),\"  ts_err-\",round(ts_err,3))"
   ]
  },
  {
   "cell_type": "code",
   "execution_count": 8,
   "metadata": {},
   "outputs": [
    {
     "name": "stdout",
     "output_type": "stream",
     "text": [
      "---------------- 2 ------------------\n",
      "tr_err- 0.932   ts_err- 0.474\n",
      "---------------- 3 ------------------\n",
      "tr_err- 0.919   ts_err- 0.526\n",
      "---------------- 4 ------------------\n",
      "tr_err- 0.838   ts_err- 0.474\n",
      "---------------- 5 ------------------\n",
      "tr_err- 0.77   ts_err- 0.474\n",
      "---------------- 6 ------------------\n",
      "tr_err- 0.743   ts_err- 0.474\n",
      "---------------- 7 ------------------\n",
      "tr_err- 0.757   ts_err- 0.474\n",
      "---------------- 8 ------------------\n",
      "tr_err- 0.73   ts_err- 0.421\n",
      "---------------- 9 ------------------\n",
      "tr_err- 0.703   ts_err- 0.421\n",
      "---------------- 10 ------------------\n",
      "tr_err- 0.703   ts_err- 0.421\n",
      "---------------- 11 ------------------\n",
      "tr_err- 0.703   ts_err- 0.421\n",
      "---------------- 12 ------------------\n",
      "tr_err- 0.716   ts_err- 0.526\n",
      "---------------- 13 ------------------\n",
      "tr_err- 0.703   ts_err- 0.579\n",
      "---------------- 14 ------------------\n",
      "tr_err- 0.703   ts_err- 0.579\n",
      "---------------- 15 ------------------\n",
      "tr_err- 0.703   ts_err- 0.526\n",
      "---------------- 16 ------------------\n",
      "tr_err- 0.662   ts_err- 0.474\n",
      "---------------- 17 ------------------\n",
      "tr_err- 0.662   ts_err- 0.474\n",
      "---------------- 18 ------------------\n",
      "tr_err- 0.662   ts_err- 0.474\n",
      "---------------- 19 ------------------\n",
      "tr_err- 0.662   ts_err- 0.474\n"
     ]
    }
   ],
   "source": [
    "for i in range(2,20,1):\n",
    "    print(\"----------------\",i,\"------------------\")\n",
    "    dtc = DecisionTreeClassifier(random_state=21,min_samples_leaf=i)\n",
    "    model = dtc.fit(xtrain,ytrain)\n",
    "    pred_tr = model.predict(xtrain)\n",
    "    pred_ts = model.predict(xtest)\n",
    "\n",
    "    from sklearn.metrics import accuracy_score\n",
    "    tr_err = accuracy_score(ytrain,pred_tr)\n",
    "    ts_err = accuracy_score(ytest,pred_ts)\n",
    "\n",
    "    print(\"tr_err-\",round(tr_err,3),\"  ts_err-\",round(ts_err,3))\n"
   ]
  },
  {
   "cell_type": "markdown",
   "metadata": {},
   "source": [
    "# Random Forest"
   ]
  },
  {
   "cell_type": "code",
   "execution_count": 9,
   "metadata": {},
   "outputs": [
    {
     "name": "stdout",
     "output_type": "stream",
     "text": [
      "---------------- 1 ------------------\n",
      "tr_err- 0.622   ts_err- 0.526\n",
      "---------------- 2 ------------------\n",
      "tr_err- 0.649   ts_err- 0.579\n",
      "---------------- 3 ------------------\n",
      "tr_err- 0.743   ts_err- 0.579\n",
      "---------------- 4 ------------------\n",
      "tr_err- 0.878   ts_err- 0.579\n",
      "---------------- 5 ------------------\n",
      "tr_err- 0.932   ts_err- 0.737\n",
      "---------------- 6 ------------------\n",
      "tr_err- 1.0   ts_err- 0.684\n",
      "---------------- 7 ------------------\n",
      "tr_err- 1.0   ts_err- 0.737\n",
      "---------------- 8 ------------------\n",
      "tr_err- 1.0   ts_err- 0.737\n",
      "---------------- 9 ------------------\n",
      "tr_err- 1.0   ts_err- 0.737\n",
      "---------------- 10 ------------------\n",
      "tr_err- 1.0   ts_err- 0.737\n",
      "---------------- 11 ------------------\n",
      "tr_err- 1.0   ts_err- 0.737\n",
      "---------------- 12 ------------------\n",
      "tr_err- 1.0   ts_err- 0.737\n",
      "---------------- 13 ------------------\n",
      "tr_err- 1.0   ts_err- 0.737\n",
      "---------------- 14 ------------------\n",
      "tr_err- 1.0   ts_err- 0.737\n",
      "---------------- 15 ------------------\n",
      "tr_err- 1.0   ts_err- 0.737\n",
      "---------------- 16 ------------------\n",
      "tr_err- 1.0   ts_err- 0.737\n",
      "---------------- 17 ------------------\n",
      "tr_err- 1.0   ts_err- 0.737\n",
      "---------------- 18 ------------------\n",
      "tr_err- 1.0   ts_err- 0.737\n",
      "---------------- 19 ------------------\n",
      "tr_err- 1.0   ts_err- 0.737\n"
     ]
    }
   ],
   "source": [
    "from sklearn.ensemble import RandomForestClassifier\n",
    "for i in range(1,20,1):\n",
    "    print(\"----------------\",i,\"------------------\")\n",
    "    dtc = RandomForestClassifier(random_state=21,max_depth=i)\n",
    "    model = dtc.fit(xtrain,ytrain)\n",
    "    pred_tr = model.predict(xtrain)\n",
    "    pred_ts = model.predict(xtest)\n",
    "\n",
    "    from sklearn.metrics import accuracy_score\n",
    "    tr_err = accuracy_score(ytrain,pred_tr)\n",
    "    ts_err = accuracy_score(ytest,pred_ts)\n",
    "\n",
    "    print(\"tr_err-\",round(tr_err,3),\"  ts_err-\",round(ts_err,3))"
   ]
  },
  {
   "cell_type": "markdown",
   "metadata": {},
   "source": [
    "# AdaBoost"
   ]
  },
  {
   "cell_type": "code",
   "execution_count": 10,
   "metadata": {},
   "outputs": [
    {
     "name": "stdout",
     "output_type": "stream",
     "text": [
      "--------------- 2 ---------------\n",
      "tr_err- 1.0   ts_err- 0.737\n",
      "--------------- 3 ---------------\n",
      "tr_err- 1.0   ts_err- 0.737\n",
      "--------------- 4 ---------------\n",
      "tr_err- 1.0   ts_err- 0.737\n",
      "--------------- 5 ---------------\n",
      "tr_err- 1.0   ts_err- 0.737\n",
      "--------------- 6 ---------------\n",
      "tr_err- 1.0   ts_err- 0.737\n",
      "--------------- 7 ---------------\n",
      "tr_err- 1.0   ts_err- 0.737\n",
      "--------------- 8 ---------------\n",
      "tr_err- 1.0   ts_err- 0.737\n",
      "--------------- 9 ---------------\n",
      "tr_err- 1.0   ts_err- 0.737\n",
      "--------------- 10 ---------------\n",
      "tr_err- 1.0   ts_err- 0.737\n",
      "--------------- 11 ---------------\n",
      "tr_err- 1.0   ts_err- 0.737\n",
      "--------------- 12 ---------------\n",
      "tr_err- 1.0   ts_err- 0.737\n",
      "--------------- 13 ---------------\n",
      "tr_err- 1.0   ts_err- 0.737\n",
      "--------------- 14 ---------------\n",
      "tr_err- 1.0   ts_err- 0.737\n",
      "--------------- 15 ---------------\n",
      "tr_err- 1.0   ts_err- 0.737\n",
      "--------------- 16 ---------------\n",
      "tr_err- 1.0   ts_err- 0.737\n",
      "--------------- 17 ---------------\n",
      "tr_err- 1.0   ts_err- 0.737\n",
      "--------------- 18 ---------------\n",
      "tr_err- 1.0   ts_err- 0.737\n",
      "--------------- 19 ---------------\n",
      "tr_err- 1.0   ts_err- 0.737\n",
      "--------------- 20 ---------------\n",
      "tr_err- 1.0   ts_err- 0.737\n",
      "--------------- 21 ---------------\n",
      "tr_err- 1.0   ts_err- 0.737\n",
      "--------------- 22 ---------------\n",
      "tr_err- 1.0   ts_err- 0.737\n",
      "--------------- 23 ---------------\n",
      "tr_err- 1.0   ts_err- 0.737\n",
      "--------------- 24 ---------------\n",
      "tr_err- 1.0   ts_err- 0.737\n",
      "--------------- 25 ---------------\n",
      "tr_err- 1.0   ts_err- 0.737\n",
      "--------------- 26 ---------------\n",
      "tr_err- 1.0   ts_err- 0.737\n",
      "--------------- 27 ---------------\n",
      "tr_err- 1.0   ts_err- 0.737\n",
      "--------------- 28 ---------------\n",
      "tr_err- 1.0   ts_err- 0.737\n",
      "--------------- 29 ---------------\n",
      "tr_err- 1.0   ts_err- 0.737\n",
      "--------------- 30 ---------------\n",
      "tr_err- 1.0   ts_err- 0.737\n",
      "--------------- 31 ---------------\n",
      "tr_err- 1.0   ts_err- 0.737\n",
      "--------------- 32 ---------------\n",
      "tr_err- 1.0   ts_err- 0.737\n",
      "--------------- 33 ---------------\n",
      "tr_err- 1.0   ts_err- 0.737\n",
      "--------------- 34 ---------------\n",
      "tr_err- 1.0   ts_err- 0.737\n",
      "--------------- 35 ---------------\n",
      "tr_err- 1.0   ts_err- 0.737\n",
      "--------------- 36 ---------------\n",
      "tr_err- 1.0   ts_err- 0.737\n",
      "--------------- 37 ---------------\n",
      "tr_err- 1.0   ts_err- 0.737\n",
      "--------------- 38 ---------------\n",
      "tr_err- 1.0   ts_err- 0.737\n",
      "--------------- 39 ---------------\n",
      "tr_err- 1.0   ts_err- 0.737\n"
     ]
    }
   ],
   "source": [
    "from sklearn.ensemble import AdaBoostClassifier\n",
    "\n",
    "for i in range(2,40,1):\n",
    "    print(\"---------------\",i,\"---------------\")\n",
    "    abc = AdaBoostClassifier(DecisionTreeClassifier(random_state=21,max_depth=2),n_estimators=40)\n",
    "    model = dtc.fit(xtrain,ytrain)\n",
    "    pred_tr = model.predict(xtrain)\n",
    "    pred_ts = model.predict(xtest)\n",
    "\n",
    "    from sklearn.metrics import accuracy_score\n",
    "    tr_err = accuracy_score(ytrain,pred_tr)\n",
    "    ts_err = accuracy_score(ytest,pred_ts)\n",
    "\n",
    "    print(\"tr_err-\",round(tr_err,3),\"  ts_err-\",round(ts_err,3))"
   ]
  },
  {
   "cell_type": "markdown",
   "metadata": {},
   "source": [
    "# Using grid for tuning hyper parameter"
   ]
  },
  {
   "cell_type": "code",
   "execution_count": 14,
   "metadata": {},
   "outputs": [
    {
     "data": {
      "text/plain": [
       "{'max_depth': 17, 'n_estimators': 37}"
      ]
     },
     "execution_count": 14,
     "metadata": {},
     "output_type": "execute_result"
    }
   ],
   "source": [
    "from sklearn.ensemble import RandomForestClassifier\n",
    "rfc = RandomForestClassifier()\n",
    "\n",
    "tg = {\"n_estimators\":range(2,50,1),\"max_depth\":range(2,20,1)}\n",
    "\n",
    "from sklearn.model_selection import GridSearchCV\n",
    "cv = GridSearchCV(rfc,tg,scoring=\"accuracy\",cv=4)\n",
    "cvmodel = cv.fit(xtrain,ytrain)\n",
    "\n",
    "cvmodel.best_params_"
   ]
  },
  {
   "cell_type": "code",
   "execution_count": 15,
   "metadata": {},
   "outputs": [],
   "source": [
    "dtc = RandomForestClassifier(random_state=21,max_depth=17)\n",
    "pred_tr = model.predict(xtrain)\n",
    "pred_ts = model.predict(xtest)\n",
    "\n",
    "from sklearn.metrics import accuracy_score\n",
    "tr_err = accuracy_score(ytrain,pred_tr)\n",
    "ts_err = accuracy_score(ytest,pred_ts)"
   ]
  },
  {
   "cell_type": "code",
   "execution_count": 16,
   "metadata": {},
   "outputs": [
    {
     "data": {
      "text/plain": [
       "0.7368421052631579"
      ]
     },
     "execution_count": 16,
     "metadata": {},
     "output_type": "execute_result"
    }
   ],
   "source": [
    "ts_err"
   ]
  },
  {
   "cell_type": "markdown",
   "metadata": {},
   "source": [
    "# Final Prediction"
   ]
  },
  {
   "cell_type": "code",
   "execution_count": 18,
   "metadata": {},
   "outputs": [],
   "source": [
    "ytest[\"predicted\"] = pred_ts"
   ]
  },
  {
   "cell_type": "code",
   "execution_count": 19,
   "metadata": {},
   "outputs": [
    {
     "data": {
      "text/html": [
       "<div>\n",
       "<style scoped>\n",
       "    .dataframe tbody tr th:only-of-type {\n",
       "        vertical-align: middle;\n",
       "    }\n",
       "\n",
       "    .dataframe tbody tr th {\n",
       "        vertical-align: top;\n",
       "    }\n",
       "\n",
       "    .dataframe thead th {\n",
       "        text-align: right;\n",
       "    }\n",
       "</style>\n",
       "<table border=\"1\" class=\"dataframe\">\n",
       "  <thead>\n",
       "    <tr style=\"text-align: right;\">\n",
       "      <th></th>\n",
       "      <th>AirBags</th>\n",
       "      <th>predicted</th>\n",
       "    </tr>\n",
       "  </thead>\n",
       "  <tbody>\n",
       "    <tr>\n",
       "      <th>23</th>\n",
       "      <td>Driver only</td>\n",
       "      <td>None</td>\n",
       "    </tr>\n",
       "    <tr>\n",
       "      <th>86</th>\n",
       "      <td>Driver only</td>\n",
       "      <td>Driver only</td>\n",
       "    </tr>\n",
       "    <tr>\n",
       "      <th>91</th>\n",
       "      <td>Driver only</td>\n",
       "      <td>Driver only</td>\n",
       "    </tr>\n",
       "    <tr>\n",
       "      <th>21</th>\n",
       "      <td>Driver only</td>\n",
       "      <td>Driver only</td>\n",
       "    </tr>\n",
       "    <tr>\n",
       "      <th>17</th>\n",
       "      <td>Driver only</td>\n",
       "      <td>Driver only</td>\n",
       "    </tr>\n",
       "    <tr>\n",
       "      <th>82</th>\n",
       "      <td>None</td>\n",
       "      <td>None</td>\n",
       "    </tr>\n",
       "    <tr>\n",
       "      <th>34</th>\n",
       "      <td>Driver only</td>\n",
       "      <td>Driver only</td>\n",
       "    </tr>\n",
       "    <tr>\n",
       "      <th>27</th>\n",
       "      <td>Driver only</td>\n",
       "      <td>Driver only</td>\n",
       "    </tr>\n",
       "    <tr>\n",
       "      <th>10</th>\n",
       "      <td>Driver &amp; Passenger</td>\n",
       "      <td>Driver only</td>\n",
       "    </tr>\n",
       "    <tr>\n",
       "      <th>40</th>\n",
       "      <td>Driver &amp; Passenger</td>\n",
       "      <td>Driver only</td>\n",
       "    </tr>\n",
       "    <tr>\n",
       "      <th>13</th>\n",
       "      <td>Driver &amp; Passenger</td>\n",
       "      <td>Driver &amp; Passenger</td>\n",
       "    </tr>\n",
       "    <tr>\n",
       "      <th>3</th>\n",
       "      <td>Driver only</td>\n",
       "      <td>Driver only</td>\n",
       "    </tr>\n",
       "    <tr>\n",
       "      <th>55</th>\n",
       "      <td>None</td>\n",
       "      <td>None</td>\n",
       "    </tr>\n",
       "    <tr>\n",
       "      <th>1</th>\n",
       "      <td>Driver &amp; Passenger</td>\n",
       "      <td>Driver only</td>\n",
       "    </tr>\n",
       "    <tr>\n",
       "      <th>22</th>\n",
       "      <td>None</td>\n",
       "      <td>None</td>\n",
       "    </tr>\n",
       "    <tr>\n",
       "      <th>84</th>\n",
       "      <td>Driver only</td>\n",
       "      <td>Driver only</td>\n",
       "    </tr>\n",
       "    <tr>\n",
       "      <th>19</th>\n",
       "      <td>Driver &amp; Passenger</td>\n",
       "      <td>Driver &amp; Passenger</td>\n",
       "    </tr>\n",
       "    <tr>\n",
       "      <th>36</th>\n",
       "      <td>Driver only</td>\n",
       "      <td>Driver only</td>\n",
       "    </tr>\n",
       "    <tr>\n",
       "      <th>83</th>\n",
       "      <td>Driver only</td>\n",
       "      <td>None</td>\n",
       "    </tr>\n",
       "  </tbody>\n",
       "</table>\n",
       "</div>"
      ],
      "text/plain": [
       "               AirBags           predicted\n",
       "23         Driver only                None\n",
       "86         Driver only         Driver only\n",
       "91         Driver only         Driver only\n",
       "21         Driver only         Driver only\n",
       "17         Driver only         Driver only\n",
       "82                None                None\n",
       "34         Driver only         Driver only\n",
       "27         Driver only         Driver only\n",
       "10  Driver & Passenger         Driver only\n",
       "40  Driver & Passenger         Driver only\n",
       "13  Driver & Passenger  Driver & Passenger\n",
       "3          Driver only         Driver only\n",
       "55                None                None\n",
       "1   Driver & Passenger         Driver only\n",
       "22                None                None\n",
       "84         Driver only         Driver only\n",
       "19  Driver & Passenger  Driver & Passenger\n",
       "36         Driver only         Driver only\n",
       "83         Driver only                None"
      ]
     },
     "execution_count": 19,
     "metadata": {},
     "output_type": "execute_result"
    }
   ],
   "source": [
    "ytest"
   ]
  },
  {
   "cell_type": "code",
   "execution_count": null,
   "metadata": {},
   "outputs": [],
   "source": []
  }
 ],
 "metadata": {
  "kernelspec": {
   "display_name": "Python 3",
   "language": "python",
   "name": "python3"
  },
  "language_info": {
   "codemirror_mode": {
    "name": "ipython",
    "version": 3
   },
   "file_extension": ".py",
   "mimetype": "text/x-python",
   "name": "python",
   "nbconvert_exporter": "python",
   "pygments_lexer": "ipython3",
   "version": "3.8.3"
  }
 },
 "nbformat": 4,
 "nbformat_minor": 4
}
